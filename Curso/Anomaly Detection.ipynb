{
 "cells": [
  {
   "cell_type": "markdown",
   "metadata": {},
   "source": [
    "## Imports"
   ]
  },
  {
   "cell_type": "code",
   "execution_count": 5,
   "metadata": {},
   "outputs": [],
   "source": [
    "import pandas as pd\n",
    "import numpy as np\n",
    "import pylab as pl\n",
    "from sklearn.svm import OneClassSVM\n",
    "from sklearn.covariance import EllipticEnvelope\n",
    "\n",
    "pl.rcParams.update({'font.size': 14})\n"
   ]
  },
  {
   "cell_type": "markdown",
   "metadata": {},
   "source": [
    "## Load the Data Set"
   ]
  },
  {
   "cell_type": "code",
   "execution_count": 6,
   "metadata": {},
   "outputs": [],
   "source": [
    "df = pd.read_csv(\"C:/Users/LucasFranklin/Desktop/Data Mining/Codes/Data-Mining/DataSets/AnomalyData.csv\")"
   ]
  },
  {
   "cell_type": "code",
   "execution_count": 7,
   "metadata": {},
   "outputs": [
    {
     "data": {
      "text/html": [
       "<div>\n",
       "<style scoped>\n",
       "    .dataframe tbody tr th:only-of-type {\n",
       "        vertical-align: middle;\n",
       "    }\n",
       "\n",
       "    .dataframe tbody tr th {\n",
       "        vertical-align: top;\n",
       "    }\n",
       "\n",
       "    .dataframe thead th {\n",
       "        text-align: right;\n",
       "    }\n",
       "</style>\n",
       "<table border=\"1\" class=\"dataframe\">\n",
       "  <thead>\n",
       "    <tr style=\"text-align: right;\">\n",
       "      <th></th>\n",
       "      <th>State</th>\n",
       "      <th>state_code</th>\n",
       "      <th>data science</th>\n",
       "      <th>cluster analysis</th>\n",
       "      <th>college</th>\n",
       "      <th>startup</th>\n",
       "      <th>entrepreneur</th>\n",
       "      <th>ceo</th>\n",
       "      <th>mortgage</th>\n",
       "      <th>nba</th>\n",
       "      <th>...</th>\n",
       "      <th>obfuscation</th>\n",
       "      <th>unicorn</th>\n",
       "      <th>Extraversion</th>\n",
       "      <th>Agreeableness</th>\n",
       "      <th>Conscientiousness</th>\n",
       "      <th>Neuroticism</th>\n",
       "      <th>Openness</th>\n",
       "      <th>PsychRegions</th>\n",
       "      <th>region</th>\n",
       "      <th>division</th>\n",
       "    </tr>\n",
       "  </thead>\n",
       "  <tbody>\n",
       "    <tr>\n",
       "      <th>0</th>\n",
       "      <td>Alabama</td>\n",
       "      <td>AL</td>\n",
       "      <td>-1.00</td>\n",
       "      <td>-0.13</td>\n",
       "      <td>1.10</td>\n",
       "      <td>-0.68</td>\n",
       "      <td>0.15</td>\n",
       "      <td>-0.73</td>\n",
       "      <td>1.53</td>\n",
       "      <td>-0.74</td>\n",
       "      <td>...</td>\n",
       "      <td>-0.32</td>\n",
       "      <td>-1.03</td>\n",
       "      <td>55.5</td>\n",
       "      <td>52.7</td>\n",
       "      <td>55.5</td>\n",
       "      <td>48.7</td>\n",
       "      <td>42.7</td>\n",
       "      <td>1</td>\n",
       "      <td>3</td>\n",
       "      <td>6</td>\n",
       "    </tr>\n",
       "    <tr>\n",
       "      <th>1</th>\n",
       "      <td>Arizona</td>\n",
       "      <td>AZ</td>\n",
       "      <td>-0.42</td>\n",
       "      <td>-0.73</td>\n",
       "      <td>-0.10</td>\n",
       "      <td>0.11</td>\n",
       "      <td>0.57</td>\n",
       "      <td>0.25</td>\n",
       "      <td>0.95</td>\n",
       "      <td>0.38</td>\n",
       "      <td>...</td>\n",
       "      <td>0.38</td>\n",
       "      <td>0.10</td>\n",
       "      <td>50.6</td>\n",
       "      <td>46.6</td>\n",
       "      <td>58.4</td>\n",
       "      <td>38.1</td>\n",
       "      <td>54.7</td>\n",
       "      <td>2</td>\n",
       "      <td>4</td>\n",
       "      <td>8</td>\n",
       "    </tr>\n",
       "    <tr>\n",
       "      <th>2</th>\n",
       "      <td>Arkansas</td>\n",
       "      <td>AR</td>\n",
       "      <td>-0.66</td>\n",
       "      <td>-0.39</td>\n",
       "      <td>-0.64</td>\n",
       "      <td>-0.08</td>\n",
       "      <td>0.01</td>\n",
       "      <td>-0.66</td>\n",
       "      <td>-0.50</td>\n",
       "      <td>-0.71</td>\n",
       "      <td>...</td>\n",
       "      <td>-0.45</td>\n",
       "      <td>-0.32</td>\n",
       "      <td>49.9</td>\n",
       "      <td>52.7</td>\n",
       "      <td>41.0</td>\n",
       "      <td>56.2</td>\n",
       "      <td>40.3</td>\n",
       "      <td>1</td>\n",
       "      <td>3</td>\n",
       "      <td>7</td>\n",
       "    </tr>\n",
       "    <tr>\n",
       "      <th>3</th>\n",
       "      <td>California</td>\n",
       "      <td>CA</td>\n",
       "      <td>1.95</td>\n",
       "      <td>-0.62</td>\n",
       "      <td>-0.26</td>\n",
       "      <td>2.02</td>\n",
       "      <td>0.46</td>\n",
       "      <td>1.27</td>\n",
       "      <td>-0.97</td>\n",
       "      <td>1.46</td>\n",
       "      <td>...</td>\n",
       "      <td>0.70</td>\n",
       "      <td>-0.38</td>\n",
       "      <td>51.4</td>\n",
       "      <td>49.0</td>\n",
       "      <td>43.2</td>\n",
       "      <td>39.1</td>\n",
       "      <td>65.0</td>\n",
       "      <td>2</td>\n",
       "      <td>4</td>\n",
       "      <td>9</td>\n",
       "    </tr>\n",
       "    <tr>\n",
       "      <th>4</th>\n",
       "      <td>Colorado</td>\n",
       "      <td>CO</td>\n",
       "      <td>0.34</td>\n",
       "      <td>0.00</td>\n",
       "      <td>-0.61</td>\n",
       "      <td>1.49</td>\n",
       "      <td>0.05</td>\n",
       "      <td>0.33</td>\n",
       "      <td>1.38</td>\n",
       "      <td>-0.80</td>\n",
       "      <td>...</td>\n",
       "      <td>1.32</td>\n",
       "      <td>0.20</td>\n",
       "      <td>45.3</td>\n",
       "      <td>47.5</td>\n",
       "      <td>58.8</td>\n",
       "      <td>34.3</td>\n",
       "      <td>57.9</td>\n",
       "      <td>1</td>\n",
       "      <td>4</td>\n",
       "      <td>8</td>\n",
       "    </tr>\n",
       "  </tbody>\n",
       "</table>\n",
       "<p>5 rows × 30 columns</p>\n",
       "</div>"
      ],
      "text/plain": [
       "        State state_code  data science  cluster analysis  college  startup  \\\n",
       "0     Alabama         AL         -1.00             -0.13     1.10    -0.68   \n",
       "1     Arizona         AZ         -0.42             -0.73    -0.10     0.11   \n",
       "2    Arkansas         AR         -0.66             -0.39    -0.64    -0.08   \n",
       "3  California         CA          1.95             -0.62    -0.26     2.02   \n",
       "4    Colorado         CO          0.34              0.00    -0.61     1.49   \n",
       "\n",
       "   entrepreneur   ceo  mortgage   nba    ...     obfuscation  unicorn  \\\n",
       "0          0.15 -0.73      1.53 -0.74    ...           -0.32    -1.03   \n",
       "1          0.57  0.25      0.95  0.38    ...            0.38     0.10   \n",
       "2          0.01 -0.66     -0.50 -0.71    ...           -0.45    -0.32   \n",
       "3          0.46  1.27     -0.97  1.46    ...            0.70    -0.38   \n",
       "4          0.05  0.33      1.38 -0.80    ...            1.32     0.20   \n",
       "\n",
       "   Extraversion  Agreeableness  Conscientiousness  Neuroticism  Openness  \\\n",
       "0          55.5           52.7               55.5         48.7      42.7   \n",
       "1          50.6           46.6               58.4         38.1      54.7   \n",
       "2          49.9           52.7               41.0         56.2      40.3   \n",
       "3          51.4           49.0               43.2         39.1      65.0   \n",
       "4          45.3           47.5               58.8         34.3      57.9   \n",
       "\n",
       "   PsychRegions  region  division  \n",
       "0             1       3         6  \n",
       "1             2       4         8  \n",
       "2             1       3         7  \n",
       "3             2       4         9  \n",
       "4             1       4         8  \n",
       "\n",
       "[5 rows x 30 columns]"
      ]
     },
     "execution_count": 7,
     "metadata": {},
     "output_type": "execute_result"
    }
   ],
   "source": [
    "df.head()"
   ]
  },
  {
   "cell_type": "code",
   "execution_count": 8,
   "metadata": {},
   "outputs": [
    {
     "data": {
      "text/html": [
       "<div>\n",
       "<style scoped>\n",
       "    .dataframe tbody tr th:only-of-type {\n",
       "        vertical-align: middle;\n",
       "    }\n",
       "\n",
       "    .dataframe tbody tr th {\n",
       "        vertical-align: top;\n",
       "    }\n",
       "\n",
       "    .dataframe thead th {\n",
       "        text-align: right;\n",
       "    }\n",
       "</style>\n",
       "<table border=\"1\" class=\"dataframe\">\n",
       "  <thead>\n",
       "    <tr style=\"text-align: right;\">\n",
       "      <th></th>\n",
       "      <th>data science</th>\n",
       "      <th>cluster analysis</th>\n",
       "      <th>college</th>\n",
       "      <th>startup</th>\n",
       "      <th>entrepreneur</th>\n",
       "      <th>ceo</th>\n",
       "      <th>mortgage</th>\n",
       "      <th>nba</th>\n",
       "      <th>nfl</th>\n",
       "      <th>mlb</th>\n",
       "      <th>...</th>\n",
       "      <th>obfuscation</th>\n",
       "      <th>unicorn</th>\n",
       "      <th>Extraversion</th>\n",
       "      <th>Agreeableness</th>\n",
       "      <th>Conscientiousness</th>\n",
       "      <th>Neuroticism</th>\n",
       "      <th>Openness</th>\n",
       "      <th>PsychRegions</th>\n",
       "      <th>region</th>\n",
       "      <th>division</th>\n",
       "    </tr>\n",
       "  </thead>\n",
       "  <tbody>\n",
       "    <tr>\n",
       "      <th>count</th>\n",
       "      <td>48.000000</td>\n",
       "      <td>48.000000</td>\n",
       "      <td>48.000000</td>\n",
       "      <td>48.000000</td>\n",
       "      <td>48.000000</td>\n",
       "      <td>48.000000</td>\n",
       "      <td>48.000000</td>\n",
       "      <td>48.000000</td>\n",
       "      <td>48.000000</td>\n",
       "      <td>48.000000</td>\n",
       "      <td>...</td>\n",
       "      <td>48.000000</td>\n",
       "      <td>48.000000</td>\n",
       "      <td>48.000000</td>\n",
       "      <td>48.000000</td>\n",
       "      <td>48.0000</td>\n",
       "      <td>48.000000</td>\n",
       "      <td>48.000000</td>\n",
       "      <td>48.000000</td>\n",
       "      <td>48.000000</td>\n",
       "      <td>48.000000</td>\n",
       "    </tr>\n",
       "    <tr>\n",
       "      <th>mean</th>\n",
       "      <td>-0.000833</td>\n",
       "      <td>-0.012500</td>\n",
       "      <td>0.060625</td>\n",
       "      <td>0.013542</td>\n",
       "      <td>0.031667</td>\n",
       "      <td>-0.030000</td>\n",
       "      <td>-0.026250</td>\n",
       "      <td>-0.025000</td>\n",
       "      <td>-0.027292</td>\n",
       "      <td>0.021458</td>\n",
       "      <td>...</td>\n",
       "      <td>-0.003542</td>\n",
       "      <td>0.015000</td>\n",
       "      <td>49.695833</td>\n",
       "      <td>50.593750</td>\n",
       "      <td>50.1250</td>\n",
       "      <td>50.185417</td>\n",
       "      <td>49.427083</td>\n",
       "      <td>1.791667</td>\n",
       "      <td>2.604167</td>\n",
       "      <td>4.958333</td>\n",
       "    </tr>\n",
       "    <tr>\n",
       "      <th>std</th>\n",
       "      <td>0.971397</td>\n",
       "      <td>0.972073</td>\n",
       "      <td>0.982906</td>\n",
       "      <td>1.023726</td>\n",
       "      <td>0.974069</td>\n",
       "      <td>0.910588</td>\n",
       "      <td>0.984956</td>\n",
       "      <td>0.998769</td>\n",
       "      <td>1.017104</td>\n",
       "      <td>1.010104</td>\n",
       "      <td>...</td>\n",
       "      <td>1.010908</td>\n",
       "      <td>0.991743</td>\n",
       "      <td>9.862975</td>\n",
       "      <td>9.192166</td>\n",
       "      <td>10.0659</td>\n",
       "      <td>10.030952</td>\n",
       "      <td>9.267117</td>\n",
       "      <td>0.874176</td>\n",
       "      <td>1.046566</td>\n",
       "      <td>2.483634</td>\n",
       "    </tr>\n",
       "    <tr>\n",
       "      <th>min</th>\n",
       "      <td>-1.270000</td>\n",
       "      <td>-1.700000</td>\n",
       "      <td>-1.960000</td>\n",
       "      <td>-1.830000</td>\n",
       "      <td>-1.940000</td>\n",
       "      <td>-1.380000</td>\n",
       "      <td>-2.400000</td>\n",
       "      <td>-1.720000</td>\n",
       "      <td>-2.560000</td>\n",
       "      <td>-1.500000</td>\n",
       "      <td>...</td>\n",
       "      <td>-1.770000</td>\n",
       "      <td>-1.720000</td>\n",
       "      <td>26.500000</td>\n",
       "      <td>29.800000</td>\n",
       "      <td>24.0000</td>\n",
       "      <td>30.400000</td>\n",
       "      <td>21.800000</td>\n",
       "      <td>1.000000</td>\n",
       "      <td>1.000000</td>\n",
       "      <td>1.000000</td>\n",
       "    </tr>\n",
       "    <tr>\n",
       "      <th>25%</th>\n",
       "      <td>-0.662500</td>\n",
       "      <td>-0.730000</td>\n",
       "      <td>-0.617500</td>\n",
       "      <td>-0.650000</td>\n",
       "      <td>-0.607500</td>\n",
       "      <td>-0.675000</td>\n",
       "      <td>-0.732500</td>\n",
       "      <td>-0.855000</td>\n",
       "      <td>-0.650000</td>\n",
       "      <td>-0.812500</td>\n",
       "      <td>...</td>\n",
       "      <td>-0.730000</td>\n",
       "      <td>-0.537500</td>\n",
       "      <td>44.350000</td>\n",
       "      <td>45.775000</td>\n",
       "      <td>43.0500</td>\n",
       "      <td>43.850000</td>\n",
       "      <td>42.700000</td>\n",
       "      <td>1.000000</td>\n",
       "      <td>2.000000</td>\n",
       "      <td>3.000000</td>\n",
       "    </tr>\n",
       "    <tr>\n",
       "      <th>50%</th>\n",
       "      <td>-0.235000</td>\n",
       "      <td>-0.135000</td>\n",
       "      <td>-0.050000</td>\n",
       "      <td>-0.055000</td>\n",
       "      <td>0.070000</td>\n",
       "      <td>-0.115000</td>\n",
       "      <td>-0.005000</td>\n",
       "      <td>-0.130000</td>\n",
       "      <td>-0.140000</td>\n",
       "      <td>-0.035000</td>\n",
       "      <td>...</td>\n",
       "      <td>-0.105000</td>\n",
       "      <td>-0.165000</td>\n",
       "      <td>51.150000</td>\n",
       "      <td>52.050000</td>\n",
       "      <td>51.3500</td>\n",
       "      <td>49.000000</td>\n",
       "      <td>49.850000</td>\n",
       "      <td>1.500000</td>\n",
       "      <td>3.000000</td>\n",
       "      <td>5.000000</td>\n",
       "    </tr>\n",
       "    <tr>\n",
       "      <th>75%</th>\n",
       "      <td>0.352500</td>\n",
       "      <td>0.412500</td>\n",
       "      <td>0.747500</td>\n",
       "      <td>0.332500</td>\n",
       "      <td>0.485000</td>\n",
       "      <td>0.420000</td>\n",
       "      <td>0.537500</td>\n",
       "      <td>0.612500</td>\n",
       "      <td>0.702500</td>\n",
       "      <td>0.867500</td>\n",
       "      <td>...</td>\n",
       "      <td>0.462500</td>\n",
       "      <td>0.387500</td>\n",
       "      <td>56.050000</td>\n",
       "      <td>56.625000</td>\n",
       "      <td>56.1250</td>\n",
       "      <td>56.925000</td>\n",
       "      <td>56.675000</td>\n",
       "      <td>3.000000</td>\n",
       "      <td>3.000000</td>\n",
       "      <td>7.000000</td>\n",
       "    </tr>\n",
       "    <tr>\n",
       "      <th>max</th>\n",
       "      <td>2.730000</td>\n",
       "      <td>2.910000</td>\n",
       "      <td>2.360000</td>\n",
       "      <td>2.630000</td>\n",
       "      <td>2.740000</td>\n",
       "      <td>2.460000</td>\n",
       "      <td>1.890000</td>\n",
       "      <td>2.120000</td>\n",
       "      <td>2.090000</td>\n",
       "      <td>2.490000</td>\n",
       "      <td>...</td>\n",
       "      <td>2.590000</td>\n",
       "      <td>3.220000</td>\n",
       "      <td>69.800000</td>\n",
       "      <td>69.400000</td>\n",
       "      <td>69.6000</td>\n",
       "      <td>79.200000</td>\n",
       "      <td>65.000000</td>\n",
       "      <td>3.000000</td>\n",
       "      <td>4.000000</td>\n",
       "      <td>9.000000</td>\n",
       "    </tr>\n",
       "  </tbody>\n",
       "</table>\n",
       "<p>8 rows × 28 columns</p>\n",
       "</div>"
      ],
      "text/plain": [
       "       data science  cluster analysis    college    startup  entrepreneur  \\\n",
       "count     48.000000         48.000000  48.000000  48.000000     48.000000   \n",
       "mean      -0.000833         -0.012500   0.060625   0.013542      0.031667   \n",
       "std        0.971397          0.972073   0.982906   1.023726      0.974069   \n",
       "min       -1.270000         -1.700000  -1.960000  -1.830000     -1.940000   \n",
       "25%       -0.662500         -0.730000  -0.617500  -0.650000     -0.607500   \n",
       "50%       -0.235000         -0.135000  -0.050000  -0.055000      0.070000   \n",
       "75%        0.352500          0.412500   0.747500   0.332500      0.485000   \n",
       "max        2.730000          2.910000   2.360000   2.630000      2.740000   \n",
       "\n",
       "             ceo   mortgage        nba        nfl        mlb    ...      \\\n",
       "count  48.000000  48.000000  48.000000  48.000000  48.000000    ...       \n",
       "mean   -0.030000  -0.026250  -0.025000  -0.027292   0.021458    ...       \n",
       "std     0.910588   0.984956   0.998769   1.017104   1.010104    ...       \n",
       "min    -1.380000  -2.400000  -1.720000  -2.560000  -1.500000    ...       \n",
       "25%    -0.675000  -0.732500  -0.855000  -0.650000  -0.812500    ...       \n",
       "50%    -0.115000  -0.005000  -0.130000  -0.140000  -0.035000    ...       \n",
       "75%     0.420000   0.537500   0.612500   0.702500   0.867500    ...       \n",
       "max     2.460000   1.890000   2.120000   2.090000   2.490000    ...       \n",
       "\n",
       "       obfuscation    unicorn  Extraversion  Agreeableness  Conscientiousness  \\\n",
       "count    48.000000  48.000000     48.000000      48.000000            48.0000   \n",
       "mean     -0.003542   0.015000     49.695833      50.593750            50.1250   \n",
       "std       1.010908   0.991743      9.862975       9.192166            10.0659   \n",
       "min      -1.770000  -1.720000     26.500000      29.800000            24.0000   \n",
       "25%      -0.730000  -0.537500     44.350000      45.775000            43.0500   \n",
       "50%      -0.105000  -0.165000     51.150000      52.050000            51.3500   \n",
       "75%       0.462500   0.387500     56.050000      56.625000            56.1250   \n",
       "max       2.590000   3.220000     69.800000      69.400000            69.6000   \n",
       "\n",
       "       Neuroticism   Openness  PsychRegions     region   division  \n",
       "count    48.000000  48.000000     48.000000  48.000000  48.000000  \n",
       "mean     50.185417  49.427083      1.791667   2.604167   4.958333  \n",
       "std      10.030952   9.267117      0.874176   1.046566   2.483634  \n",
       "min      30.400000  21.800000      1.000000   1.000000   1.000000  \n",
       "25%      43.850000  42.700000      1.000000   2.000000   3.000000  \n",
       "50%      49.000000  49.850000      1.500000   3.000000   5.000000  \n",
       "75%      56.925000  56.675000      3.000000   3.000000   7.000000  \n",
       "max      79.200000  65.000000      3.000000   4.000000   9.000000  \n",
       "\n",
       "[8 rows x 28 columns]"
      ]
     },
     "execution_count": 8,
     "metadata": {},
     "output_type": "execute_result"
    }
   ],
   "source": [
    "df.describe()"
   ]
  },
  {
   "cell_type": "markdown",
   "metadata": {},
   "source": [
    "Just the quantitated variable"
   ]
  },
  {
   "cell_type": "code",
   "execution_count": 10,
   "metadata": {},
   "outputs": [],
   "source": [
    "state_code = df['state_code']\n",
    "data = df.loc[:, \"data science\":\"Openness\"]"
   ]
  },
  {
   "cell_type": "markdown",
   "metadata": {},
   "source": [
    "## Analysis"
   ]
  },
  {
   "cell_type": "markdown",
   "metadata": {},
   "source": [
    "### Univariate Outliers"
   ]
  },
  {
   "cell_type": "code",
   "execution_count": 12,
   "metadata": {},
   "outputs": [],
   "source": [
    "param = \"modern dance\""
   ]
  },
  {
   "cell_type": "markdown",
   "metadata": {},
   "source": [
    "Get quantie values and IQR for outlier limits."
   ]
  },
  {
   "cell_type": "code",
   "execution_count": 13,
   "metadata": {},
   "outputs": [],
   "source": [
    "qv1 = data[param].quantile(0.25)\n",
    "qv2 = data[param].quantile(0.5)\n",
    "qv3 = data[param].quantile(0.75)\n",
    "qv_limit = 1.5*(qv3-qv1)"
   ]
  },
  {
   "cell_type": "markdown",
   "metadata": {},
   "source": [
    "Get positions of outliers and use state_code for labels."
   ]
  },
  {
   "cell_type": "code",
   "execution_count": 15,
   "metadata": {},
   "outputs": [],
   "source": [
    "un_outliers_mask = (data[param] > qv3 + qv_limit) | (data[param] < qv1 - qv_limit)\n",
    "un_outliers_data = data[param][un_outliers_mask]\n",
    "un_outliers_name = state_code[un_outliers_mask]"
   ]
  },
  {
   "cell_type": "markdown",
   "metadata": {},
   "source": [
    "Create box plot for \"modern dance.\""
   ]
  },
  {
   "cell_type": "code",
   "execution_count": 17,
   "metadata": {},
   "outputs": [
    {
     "data": {
      "text/plain": [
       "Text(0,0.5,'modern dance')"
      ]
     },
     "execution_count": 17,
     "metadata": {},
     "output_type": "execute_result"
    },
    {
     "data": {
      "image/png": "[encoded data removed]",
      "text/plain": [
       "<matplotlib.figure.Figure at 0x1c173d8d5c0>"
      ]
     },
     "metadata": {},
     "output_type": "display_data"
    }
   ],
   "source": [
    "fig = pl.figure(figsize=(4,6))\n",
    "ax = fig.add_subplot(1, 1, 1)\n",
    "for name, y in zip(un_outliers_name, un_outliers_data):\n",
    "    ax.text(1, y, name)\n",
    "ax.boxplot(data[param])\n",
    "ax.set_ylabel(param)"
   ]
  },
  {
   "cell_type": "markdown",
   "metadata": {},
   "source": [
    "##  Bivariate Outliers\n",
    "Create a scatterplot with an ellipse as a boundary for outliers.\n",
    "\n",
    "Use the Google search terms \"data science\" and \"ceo\" for this example."
   ]
  },
  {
   "cell_type": "code",
   "execution_count": 18,
   "metadata": {},
   "outputs": [],
   "source": [
    "params = [\"data science\", \"ceo\"]\n",
    "params_data = np.array([df[params[0]], df[params[1]]]).T"
   ]
  },
  {
   "cell_type": "markdown",
   "metadata": {},
   "source": [
    "Compute the \"elliptical envelope.\""
   ]
  },
  {
   "cell_type": "code",
   "execution_count": 19,
   "metadata": {},
   "outputs": [
    {
     "data": {
      "text/plain": [
       "EllipticEnvelope(assume_centered=False, contamination=0.1, random_state=None,\n",
       "         store_precision=True, support_fraction=None)"
      ]
     },
     "execution_count": 19,
     "metadata": {},
     "output_type": "execute_result"
    }
   ],
   "source": [
    "ee = EllipticEnvelope()\n",
    "ee.fit(params_data)"
   ]
  },
  {
   "cell_type": "markdown",
   "metadata": {},
   "source": [
    "Get the names and positions of outliers."
   ]
  },
  {
   "cell_type": "code",
   "execution_count": 20,
   "metadata": {},
   "outputs": [],
   "source": [
    "biv_outliers_mask = ee.predict(params_data) == -1\n",
    "biv_outliers_data = params_data[biv_outliers_mask]\n",
    "biv_outliers_name = state_code[biv_outliers_mask]"
   ]
  },
  {
   "cell_type": "markdown",
   "metadata": {},
   "source": [
    "Calculate the decision boundary for the scatterplot."
   ]
  },
  {
   "cell_type": "code",
   "execution_count": 21,
   "metadata": {},
   "outputs": [],
   "source": [
    "xx, yy = np.meshgrid(np.linspace(params_data[:, 0].min(), params_data[:, 0].max(), 100),\n",
    "                     np.linspace(params_data[:, 1].min(), params_data[:, 1].max(), 100))\n",
    "zz = ee.decision_function(np.c_[xx.ravel(), yy.ravel()])\n",
    "zz = zz.reshape(xx.shape)"
   ]
  },
  {
   "cell_type": "markdown",
   "metadata": {},
   "source": [
    "Draw the scatterplot with the elliptical envelope and label the outliers."
   ]
  },
  {
   "cell_type": "code",
   "execution_count": 23,
   "metadata": {},
   "outputs": [
    {
     "data": {
      "text/plain": [
       "Text(0,0.5,'ceo')"
      ]
     },
     "execution_count": 23,
     "metadata": {},
     "output_type": "execute_result"
    },
    {
     "data": {
      "image/png": "[encoded data removed]",
      "text/plain": [
       "<matplotlib.figure.Figure at 0x1c173d8d208>"
      ]
     },
     "metadata": {},
     "output_type": "display_data"
    }
   ],
   "source": [
    "fig = pl.figure(figsize=(10,10))\n",
    "ax = fig.add_subplot(1, 1, 1)\n",
    "for name, xy in zip(biv_outliers_name, biv_outliers_data):\n",
    "    ax.text(xy[0], xy[1], name)\n",
    "ax.contour(xx, yy, zz, levels=[0], linewidths=2)\n",
    "ax.scatter(params_data[:, 0], params_data[:, 1], color='black')\n",
    "ax.set_xlabel(params[0])\n",
    "ax.set_ylabel(params[1])"
   ]
  },
  {
   "cell_type": "markdown",
   "metadata": {},
   "source": [
    "##  Multivariate Outliers\n",
    "Use the one-class support vector machine (SVM) algorithm to classify unusual cases."
   ]
  },
  {
   "cell_type": "code",
   "execution_count": 24,
   "metadata": {},
   "outputs": [
    {
     "data": {
      "text/plain": [
       "OneClassSVM(cache_size=200, coef0=0.0, degree=3, gamma=0.05, kernel='rbf',\n",
       "      max_iter=-1, nu=0.25, random_state=None, shrinking=True, tol=0.001,\n",
       "      verbose=False)"
      ]
     },
     "execution_count": 24,
     "metadata": {},
     "output_type": "execute_result"
    }
   ],
   "source": [
    "ocsvm = OneClassSVM(nu=0.25, gamma=0.05)\n",
    "ocsvm.fit(data)"
   ]
  },
  {
   "cell_type": "markdown",
   "metadata": {},
   "source": [
    "List the names of the outlying states based on the one-class SVM."
   ]
  },
  {
   "cell_type": "code",
   "execution_count": 25,
   "metadata": {},
   "outputs": [
    {
     "data": {
      "text/plain": [
       "7     FL\n",
       "13    KS\n",
       "14    KY\n",
       "16    ME\n",
       "17    MD\n",
       "18    MA\n",
       "19    MI\n",
       "20    MN\n",
       "21    MS\n",
       "24    NE\n",
       "25    NV\n",
       "27    NJ\n",
       "28    NM\n",
       "30    NC\n",
       "33    OK\n",
       "39    TN\n",
       "43    VA\n",
       "Name: state_code, dtype: object"
      ]
     },
     "execution_count": 25,
     "metadata": {},
     "output_type": "execute_result"
    }
   ],
   "source": [
    "state_code[ocsvm.predict(data) == -1]"
   ]
  },
  {
   "cell_type": "code",
   "execution_count": null,
   "metadata": {},
   "outputs": [],
   "source": []
  }
 ],
 "metadata": {
  "kernelspec": {
   "display_name": "Python 3",
   "language": "python",
   "name": "python3"
  },
  "language_info": {
   "codemirror_mode": {
    "name": "ipython",
    "version": 3
   },
   "file_extension": ".py",
   "mimetype": "text/x-python",
   "name": "python",
   "nbconvert_exporter": "python",
   "pygments_lexer": "ipython3",
   "version": "3.6.2"
  }
 },
 "nbformat": 4,
 "nbformat_minor": 2
}
